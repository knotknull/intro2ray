{
 "cells": [
  {
   "cell_type": "markdown",
   "metadata": {},
   "source": [
    "# Intro to Ray Tune\n",
    "\n",
    "This notebook will walk you through the basics of hyperparameter tuning with Ray Tune.\n",
    "\n",
    "<div class=\"alert alert-block alert-info\">\n",
    "<p> Here is the roadmap for this notebook:</p>\n",
    "<ul>\n",
    "    <li> <b>Part 1:</b> Loading the data </li>\n",
    "    <li> <b>Part 2:</b> Starting out with vanilla PyTorch </li>\n",
    "    <li> <b>Part 3:</b> Hyperparameter tuning with Ray Tune </li>\n",
    "    <li> <b>Part 4:</b> Ray Tune in production </li>\n",
    "</ul>\n",
    "</div>\n"
   ]
  },
  {
   "cell_type": "markdown",
   "metadata": {},
   "source": [
    "## Imports"
   ]
  },
  {
   "cell_type": "code",
   "execution_count": 2,
   "metadata": {},
   "outputs": [],
   "source": [
    "from typing import Any\n",
    "\n",
    "import matplotlib.pyplot as plt\n",
    "import numpy as np\n",
    "import torch\n",
    "from torchvision.datasets import MNIST\n",
    "from torchvision.transforms import Compose, ToTensor, Normalize\n",
    "from torchvision.models import resnet18\n",
    "from torch.utils.data import DataLoader\n",
    "from torch.optim import Adam\n",
    "from torch.nn import CrossEntropyLoss\n",
    "\n",
    "import ray\n",
    "from ray import tune, train\n",
    "from ray.tune.search import optuna"
   ]
  },
  {
   "cell_type": "markdown",
   "metadata": {},
   "source": [
    "## 1. Loading the data\n",
    "\n",
    "Our Dataset is the MNIST dataset\n",
    "\n",
    "The MNIST dataset consists of 28x28 pixel grayscale images of handwritten digits (0-9).\n",
    "\n",
    "**Dataset details:**\n",
    "- Training set: 60,000 images\n",
    "- Test set: 10,000 images\n",
    "- Image size: 28x28 pixels\n",
    "- Number of classes: 10 (digits 0-9)\n",
    "\n",
    "**Data format:**\n",
    "Each image is represented as a 2D array of pixel values, where each pixel is a grayscale intensity between 0 (black) and 255 (white).\n",
    "\n"
   ]
  },
  {
   "cell_type": "code",
   "execution_count": 3,
   "metadata": {},
   "outputs": [],
   "source": [
    "def build_data_loader(batch_size: int) -> torch.utils.data.DataLoader:\n",
    "    transform = Compose([ToTensor(), Normalize((0.5,), (0.5,))])\n",
    "    train_data = MNIST(root=\"./data\", train=True, download=True, transform=transform)\n",
    "    data_loader = DataLoader(train_data, batch_size=batch_size, shuffle=True, drop_last=True)\n",
    "    return data_loader"
   ]
  },
  {
   "cell_type": "markdown",
   "metadata": {},
   "source": [
    "Let's visualize a batch"
   ]
  },
  {
   "cell_type": "code",
   "execution_count": 5,
   "metadata": {},
   "outputs": [
    {
     "data": {
      "image/png": "[encoded data removed]",
      "text/plain": [
       "<Figure size 2000x200 with 10 Axes>"
      ]
     },
     "metadata": {},
     "output_type": "display_data"
    }
   ],
   "source": [
    "fig, axs = plt.subplots(1, 10, figsize=(20, 2))\n",
    "\n",
    "data_loader = build_data_loader(batch_size=10)\n",
    "\n",
    "for (images, labels) in data_loader:\n",
    "    \n",
    "    for i, (image, label) in enumerate(zip(images, labels)):\n",
    "        axs[i].imshow(image.squeeze(), cmap=\"gray\")\n",
    "        axs[i].set_title(label.item())\n",
    "        axs[i].axis(\"off\")\n",
    "    break"
   ]
  },
  {
   "cell_type": "markdown",
   "metadata": {},
   "source": [
    "## 2. Starting out with vanilla PyTorch\n",
    "\n",
    "Here is a high level overview of the model training process:\n",
    "\n",
    "- **Objective**: Classify handwritten digits (0-9)\n",
    "- **Model**: Simple Neural Network using PyTorch\n",
    "- **Evaluation Metric**: Accuracy\n",
    "- **Dataset**: MNIST\n",
    "\n",
    "We'll start with a basic PyTorch implementation to establish a baseline before moving on to more advanced techniques. This will give us a good foundation for understanding the benefits of hyperparameter tuning and distributed training in later sections."
   ]
  },
  {
   "cell_type": "code",
   "execution_count": 6,
   "metadata": {},
   "outputs": [],
   "source": [
    "def train_loop_torch(num_epochs: int = 2, batch_size: int = 128, lr: float = 1e-5):\n",
    "    criterion = CrossEntropyLoss()\n",
    "\n",
    "    model = resnet18()\n",
    "    model.conv1 = torch.nn.Conv2d(\n",
    "        1, 64, kernel_size=(7, 7), stride=(2, 2), padding=(3, 3), bias=False\n",
    "    )\n",
    "    model.to(\"cuda\")\n",
    "    data_loader = build_data_loader(batch_size)\n",
    "    optimizer = Adam(model.parameters(), lr=lr)\n",
    "\n",
    "    for epoch in range(num_epochs):\n",
    "        for images, labels in data_loader:\n",
    "            images, labels = images.to(\"cuda\"), labels.to(\"cuda\")\n",
    "            outputs = model(images)\n",
    "            loss = criterion(outputs, labels)\n",
    "            optimizer.zero_grad()\n",
    "            loss.backward()\n",
    "            optimizer.step()\n",
    "\n",
    "        # Report the metrics\n",
    "        print(f\"Epoch {epoch}, Loss: {loss}\")"
   ]
  },
  {
   "cell_type": "markdown",
   "metadata": {},
   "source": [
    "We fit the model by submitting it onto a GPU node using Ray Core"
   ]
  },
  {
   "cell_type": "code",
   "execution_count": 7,
   "metadata": {},
   "outputs": [
    {
     "name": "stdout",
     "output_type": "stream",
     "text": [
      "Epoch 0, Loss: 0.34998491406440735\n",
      "Epoch 1, Loss: 0.07872242480516434\n"
     ]
    }
   ],
   "source": [
    "train_loop_torch(num_epochs=2)"
   ]
  },
  {
   "cell_type": "markdown",
   "metadata": {},
   "source": [
    "**Can we do any better ?** let's see if we can tune the hyperparameters of our model to get a better loss.\n",
    "\n",
    "But hyperparameter tuning is a computationally expensive task, and it will take a long time to run sequentially.\n",
    "\n",
    "[Ray Tune](https://docs.ray.io/en/master/tune/) is a distributed hyperparameter tuning library that can help us speed up the process!"
   ]
  },
  {
   "cell_type": "markdown",
   "metadata": {},
   "source": [
    "## 3. Hyperparameter tuning with Ray Tune"
   ]
  },
  {
   "cell_type": "markdown",
   "metadata": {},
   "source": [
    "### Intro to Ray Tune\n",
    "\n",
    "<img src=\"https://docs.ray.io/en/master/_images/tune_overview.png\" width=\"250\">\n",
    "\n",
    "Tune is a Python library for experiment execution and hyperparameter tuning at any scale.\n",
    "\n",
    "Let's take a look at a very simple example of how to use Ray Tune to tune the hyperparameters of our XGBoost model."
   ]
  },
  {
   "cell_type": "markdown",
   "metadata": {},
   "source": [
    "### Getting started\n",
    "\n",
    "We start by defining our training function"
   ]
  },
  {
   "cell_type": "code",
   "execution_count": 8,
   "metadata": {},
   "outputs": [],
   "source": [
    "def my_simple_model(distance: np.ndarray, a: float) -> np.ndarray:\n",
    "    return distance * a\n",
    "\n",
    "# Step 1: Define the training function\n",
    "def train_my_simple_model(config: dict[str, Any]) -> None: # Expected function signature for Ray Tune\n",
    "    distances = np.array([0.1, 0.2, 0.3, 0.4, 0.5])\n",
    "    total_amts = distances * 10\n",
    "    \n",
    "    a = config[\"a\"]\n",
    "    predictions = my_simple_model(distances, a)\n",
    "    rmse = np.sqrt(np.mean((total_amts - predictions) ** 2))\n",
    "\n",
    "    train.report({\"rmse\": rmse}) # This is how we report the metric to Ray Tune"
   ]
  },
  {
   "cell_type": "markdown",
   "metadata": {},
   "source": [
    "<div class=\"alert alert-block alert-warning\">\n",
    "<b>Note:</b> how the training function needs to accept a config argument. This is because Ray Tune will pass the hyperparameters to the training function as a dictionary.\n",
    "</div>"
   ]
  },
  {
   "cell_type": "markdown",
   "metadata": {},
   "source": [
    "Next, we define and run the hyperparameter tuning job by following these steps:\n",
    "\n",
    "1. Create a `Tuner` object (in our case named `tuner`)\n",
    "2. Call `tuner.fit`"
   ]
  },
  {
   "cell_type": "code",
   "execution_count": 9,
   "metadata": {},
   "outputs": [
    {
     "data": {
      "text/html": [
       "<div class=\"tuneStatus\">\n",
       "  <div style=\"display: flex;flex-direction: row\">\n",
       "    <div style=\"display: flex;flex-direction: column;\">\n",
       "      <h3>Tune Status</h3>\n",
       "      <table>\n",
       "<tbody>\n",
       "<tr><td>Current time:</td><td>2025-04-15 17:49:10</td></tr>\n",
       "<tr><td>Running for: </td><td>00:00:02.79        </td></tr>\n",
       "<tr><td>Memory:      </td><td>11.1/31.3 GiB      </td></tr>\n",
       "</tbody>\n",
       "</table>\n",
       "    </div>\n",
       "    <div class=\"vDivider\"></div>\n",
       "    <div class=\"systemInfo\">\n",
       "      <h3>System Info</h3>\n",
       "      Using FIFO scheduling algorithm.<br>Logical resource usage: 1.0/8 CPUs, 0/1 GPUs (0.0/1.0 accelerator_type:G)\n",
       "    </div>\n",
       "    \n",
       "  </div>\n",
       "  <div class=\"hDivider\"></div>\n",
       "  <div class=\"trialStatus\">\n",
       "    <h3>Trial Status</h3>\n",
       "    <table>\n",
       "<thead>\n",
       "<tr><th>Trial name                       </th><th>status    </th><th>loc                  </th><th style=\"text-align: right;\">  a</th><th style=\"text-align: right;\">  iter</th><th style=\"text-align: right;\">  total time (s)</th><th style=\"text-align: right;\">    rmse</th></tr>\n",
       "</thead>\n",
       "<tbody>\n",
       "<tr><td>train_my_simple_model_74ff3_00000</td><td>TERMINATED</td><td>192.168.99.98:3500357</td><td style=\"text-align: right;\"> 14</td><td style=\"text-align: right;\">     1</td><td style=\"text-align: right;\">     0.0173831  </td><td style=\"text-align: right;\">1.32665 </td></tr>\n",
       "<tr><td>train_my_simple_model_74ff3_00001</td><td>TERMINATED</td><td>192.168.99.98:3500355</td><td style=\"text-align: right;\"> 12</td><td style=\"text-align: right;\">     1</td><td style=\"text-align: right;\">     0.0205803  </td><td style=\"text-align: right;\">0.663325</td></tr>\n",
       "<tr><td>train_my_simple_model_74ff3_00002</td><td>TERMINATED</td><td>192.168.99.98:3500356</td><td style=\"text-align: right;\">  8</td><td style=\"text-align: right;\">     1</td><td style=\"text-align: right;\">     0.000682116</td><td style=\"text-align: right;\">0.663325</td></tr>\n",
       "<tr><td>train_my_simple_model_74ff3_00003</td><td>TERMINATED</td><td>192.168.99.98:3500358</td><td style=\"text-align: right;\"> 11</td><td style=\"text-align: right;\">     1</td><td style=\"text-align: right;\">     0.000785351</td><td style=\"text-align: right;\">0.331662</td></tr>\n",
       "<tr><td>train_my_simple_model_74ff3_00004</td><td>TERMINATED</td><td>192.168.99.98:3500354</td><td style=\"text-align: right;\">  2</td><td style=\"text-align: right;\">     1</td><td style=\"text-align: right;\">     0.000692129</td><td style=\"text-align: right;\">2.6533  </td></tr>\n",
       "</tbody>\n",
       "</table>\n",
       "  </div>\n",
       "</div>\n",
       "<style>\n",
       ".tuneStatus {\n",
       "  color: var(--jp-ui-font-color1);\n",
       "}\n",
       ".tuneStatus .systemInfo {\n",
       "  display: flex;\n",
       "  flex-direction: column;\n",
       "}\n",
       ".tuneStatus td {\n",
       "  white-space: nowrap;\n",
       "}\n",
       ".tuneStatus .trialStatus {\n",
       "  display: flex;\n",
       "  flex-direction: column;\n",
       "}\n",
       ".tuneStatus h3 {\n",
       "  font-weight: bold;\n",
       "}\n",
       ".tuneStatus .hDivider {\n",
       "  border-bottom-width: var(--jp-border-width);\n",
       "  border-bottom-color: var(--jp-border-color0);\n",
       "  border-bottom-style: solid;\n",
       "}\n",
       ".tuneStatus .vDivider {\n",
       "  border-left-width: var(--jp-border-width);\n",
       "  border-left-color: var(--jp-border-color0);\n",
       "  border-left-style: solid;\n",
       "  margin: 0.5em 1em 0.5em 1em;\n",
       "}\n",
       "</style>\n"
      ],
      "text/plain": [
       "<IPython.core.display.HTML object>"
      ]
     },
     "metadata": {},
     "output_type": "display_data"
    },
    {
     "name": "stderr",
     "output_type": "stream",
     "text": [
      "\u001b[36m(train_my_simple_model pid=3500357)\u001b[0m /data/archive/ray/course/intro2ray/.venv/lib/python3.12/site-packages/ray/train/_internal/session.py:772: RayDeprecationWarning: `ray.train.report` should be switched to `ray.tune.report` when running in a function passed to Ray Tune. This will be an error in the future. See this issue for more context: https://github.com/ray-project/ray/issues/49454\n",
      "\u001b[36m(train_my_simple_model pid=3500357)\u001b[0m   _log_deprecation_warning(\n",
      "2025-04-15 17:49:10,469\tINFO tune.py:1009 -- Wrote the latest version of all result files and experiment state to '/home/map/ray_results/train_my_simple_model_2025-04-15_17-49-03' in 0.0153s.\n",
      "2025-04-15 17:49:10,474\tINFO tune.py:1041 -- Total run time: 2.84 seconds (2.78 seconds for the tuning loop).\n",
      "\u001b[36m(train_my_simple_model pid=3500354)\u001b[0m /data/archive/ray/course/intro2ray/.venv/lib/python3.12/site-packages/ray/train/_internal/session.py:772: RayDeprecationWarning: `ray.train.report` should be switched to `ray.tune.report` when running in a function passed to Ray Tune. This will be an error in the future. See this issue for more context: https://github.com/ray-project/ray/issues/49454\n",
      "\u001b[36m(train_my_simple_model pid=3500354)\u001b[0m   _log_deprecation_warning(\n",
      "  0%|          | 0.00/9.91M [00:00<?, ?B/s]\n",
      "  6%|▌         | 590k/9.91M [00:00<00:01, 5.89MB/s]\n",
      " 48%|████▊     | 4.72M/9.91M [00:00<00:00, 26.7MB/s]\n",
      "100%|██████████| 9.91M/9.91M [00:00<00:00, 36.0MB/s]\n",
      "100%|██████████| 28.9k/28.9k [00:00<00:00, 1.49MB/s]\n",
      "  0%|          | 0.00/1.65M [00:00<?, ?B/s]\n",
      "100%|██████████| 1.65M/1.65M [00:00<00:00, 10.3MB/s]\n",
      "100%|██████████| 4.54k/4.54k [00:00<00:00, 15.8MB/s]\n",
      "\u001b[36m(train_pytorch pid=3515416)\u001b[0m /data/archive/ray/course/intro2ray/.venv/lib/python3.12/site-packages/ray/train/_internal/session.py:772: RayDeprecationWarning: `ray.train.report` should be switched to `ray.tune.report` when running in a function passed to Ray Tune. This will be an error in the future. See this issue for more context: https://github.com/ray-project/ray/issues/49454\n",
      "\u001b[36m(train_pytorch pid=3515416)\u001b[0m   _log_deprecation_warning(\n",
      "  0%|          | 0.00/9.91M [00:00<?, ?B/s]\n",
      "  2%|▏         | 197k/9.91M [00:00<00:05, 1.88MB/s]\n",
      " 22%|██▏       | 2.20M/9.91M [00:00<00:00, 12.3MB/s]\n",
      " 85%|████████▍ | 8.39M/9.91M [00:00<00:00, 34.7MB/s]\n",
      "100%|██████████| 9.91M/9.91M [00:00<00:00, 31.0MB/s]\n",
      "100%|██████████| 28.9k/28.9k [00:00<00:00, 1.23MB/s]\n",
      "  0%|          | 0.00/1.65M [00:00<?, ?B/s]\n",
      " 16%|█▌        | 262k/1.65M [00:00<00:00, 2.34MB/s]\n",
      "100%|██████████| 1.65M/1.65M [00:00<00:00, 8.96MB/s]\n",
      "100%|██████████| 4.54k/4.54k [00:00<00:00, 16.7MB/s]\n",
      "\u001b[36m(train_pytorch pid=3517718)\u001b[0m /data/archive/ray/course/intro2ray/.venv/lib/python3.12/site-packages/ray/train/_internal/session.py:772: RayDeprecationWarning: `ray.train.report` should be switched to `ray.tune.report` when running in a function passed to Ray Tune. This will be an error in the future. See this issue for more context: https://github.com/ray-project/ray/issues/49454\n",
      "\u001b[36m(train_pytorch pid=3517718)\u001b[0m   _log_deprecation_warning(\n",
      "  0%|          | 0.00/9.91M [00:00<?, ?B/s]\n",
      "  6%|▋         | 623k/9.91M [00:00<00:01, 5.77MB/s]\n",
      " 26%|██▌       | 2.59M/9.91M [00:00<00:00, 13.7MB/s]\n",
      " 60%|██████    | 6.00M/9.91M [00:00<00:00, 22.8MB/s]\n",
      "100%|██████████| 9.91M/9.91M [00:00<00:00, 26.9MB/s]\n",
      "100%|██████████| 28.9k/28.9k [00:00<00:00, 1.47MB/s]\n",
      "  0%|          | 0.00/1.65M [00:00<?, ?B/s]\n",
      "100%|██████████| 1.65M/1.65M [00:00<00:00, 12.1MB/s]\n",
      "100%|██████████| 4.54k/4.54k [00:00<00:00, 13.7MB/s]\n",
      "\u001b[36m(train_pytorch pid=3520674)\u001b[0m /data/archive/ray/course/intro2ray/.venv/lib/python3.12/site-packages/ray/train/_internal/session.py:772: RayDeprecationWarning: `ray.train.report` should be switched to `ray.tune.report` when running in a function passed to Ray Tune. This will be an error in the future. See this issue for more context: https://github.com/ray-project/ray/issues/49454\n",
      "\u001b[36m(train_pytorch pid=3520674)\u001b[0m   _log_deprecation_warning(\n",
      "  0%|          | 0.00/9.91M [00:00<?, ?B/s]\n",
      "  7%|▋         | 655k/9.91M [00:00<00:01, 6.53MB/s]\n",
      " 45%|████▍     | 4.46M/9.91M [00:00<00:00, 24.1MB/s]\n",
      "100%|██████████| 9.91M/9.91M [00:00<00:00, 30.0MB/s]\n",
      "  0%|          | 0.00/28.9k [00:00<?, ?B/s]\n",
      "100%|██████████| 28.9k/28.9k [00:00<00:00, 1.29MB/s]\n",
      "  0%|          | 0.00/1.65M [00:00<?, ?B/s]\n",
      "100%|██████████| 1.65M/1.65M [00:00<00:00, 11.8MB/s]\n",
      "100%|██████████| 4.54k/4.54k [00:00<00:00, 14.6MB/s]\n"
     ]
    }
   ],
   "source": [
    "# Step 2: Set up the Tuner\n",
    "tuner = tune.Tuner(\n",
    "    trainable=train_my_simple_model,  # Training function or class to be tuned\n",
    "    param_space={\n",
    "        \"a\": tune.randint(0, 20),  # Hyperparameter: a\n",
    "    },\n",
    "    tune_config=tune.TuneConfig(\n",
    "        metric=\"rmse\",  # Metric to optimize (minimize)\n",
    "        mode=\"min\",     # Minimize the metric\n",
    "        num_samples=5,  # Number of samples to try\n",
    "    ),\n",
    ")\n",
    "\n",
    "# Step 3: Run the Tuner and get the results\n",
    "results = tuner.fit()"
   ]
  },
  {
   "cell_type": "code",
   "execution_count": 10,
   "metadata": {},
   "outputs": [
    {
     "data": {
      "text/plain": [
       "Result(\n",
       "  metrics={'rmse': np.float64(0.3316624790355401)},\n",
       "  path='/home/map/ray_results/train_my_simple_model_2025-04-15_17-49-03/train_my_simple_model_74ff3_00003_3_a=11_2025-04-15_17-49-07',\n",
       "  filesystem='local',\n",
       "  checkpoint=None\n",
       ")"
      ]
     },
     "execution_count": 10,
     "metadata": {},
     "output_type": "execute_result"
    }
   ],
   "source": [
    "# Step 4: Get the best result\n",
    "best_result = results.get_best_result()\n",
    "best_result"
   ]
  },
  {
   "cell_type": "code",
   "execution_count": 11,
   "metadata": {},
   "outputs": [
    {
     "data": {
      "text/plain": [
       "{'a': 11}"
      ]
     },
     "execution_count": 11,
     "metadata": {},
     "output_type": "execute_result"
    }
   ],
   "source": [
    "best_result.config"
   ]
  },
  {
   "cell_type": "markdown",
   "metadata": {},
   "source": [
    "So let's recap what actually happened here ?\n",
    "\n",
    "```python\n",
    "tuner = tune.Tuner(\n",
    "    trainable=train_my_simple_model,  # Training function or class to be tuned\n",
    "    param_space={\n",
    "        \"a\": tune.randint(0, 20),  # Hyperparameter: a\n",
    "    },\n",
    "    tune_config=tune.TuneConfig(\n",
    "        metric=\"rmse\",  # Metric to optimize (minimize)\n",
    "        mode=\"min\",     # Minimize the metric\n",
    "        num_samples=5,  # Number of samples to try\n",
    "    ),\n",
    ")\n",
    "\n",
    "results = tuner.fit()\n",
    "```\n",
    "\n",
    "A Tuner accepts:\n",
    "- A training function or class which is specified by `trainable`\n",
    "- A search space which is specified by `param_space`\n",
    "- A metric to optimize which is specified by `metric` and the direction of optimization `mode`\n",
    "- `num_samples` which correlates to the number of trials to run\n",
    "\n",
    "`tuner.fit` then runs multiple trials in parallel, each with a different set of hyperparameters, and returns the best set of hyperparameters found.\n"
   ]
  },
  {
   "cell_type": "markdown",
   "metadata": {},
   "source": [
    "### Diving deeper into Ray Tune concepts\n",
    "\n",
    "You might be wondering:\n",
    "- How does the tuner allocate resources to trials?\n",
    "- How does it decide how to tune - i.e. which trials to run next?\n",
    "    - e.g. A random search, or a more sophisticated search algorithm like a bayesian optimization algorithm.\n",
    "- How does it decide when to stop - i.e. whether to kill a trial early?\n",
    "    - e.g. If a trial is performing poorly compared to other trials, it perhaps makes sense to stop it early (successive halving, hyperband)\n",
    "\n",
    "It turns out that by default: \n",
    "- Each trial will run in a separate process and consume 1 CPU core.\n",
    "- Ray Tune uses a search algorithm to decide which trials to run next.\n",
    "- Ray Tune uses a scheduler to decide if/when to stop trials, or to prioritize certain trials over others."
   ]
  },
  {
   "cell_type": "markdown",
   "metadata": {},
   "source": [
    "Here is the same code with the default settings for Ray Tune *explicitly* specified."
   ]
  },
  {
   "cell_type": "code",
   "execution_count": null,
   "metadata": {},
   "outputs": [],
   "source": [
    "tuner = tune.Tuner(\n",
    "    # This is how to specify resources for your trainable function\n",
    "    trainable=tune.with_resources(train_my_simple_model, {\"cpu\": 1}),\n",
    "    param_space={\"a\": tune.randint(0, 20)},\n",
    "    tune_config=tune.TuneConfig(\n",
    "        mode=\"min\",\n",
    "        metric=\"rmse\",\n",
    "        num_samples=5, \n",
    "        # This search algorithm is a basic variation (i.e random/grid search) based on parameter space\n",
    "        search_alg=tune.search.BasicVariantGenerator(), \n",
    "        # This scheduler is very simple: no early stopping, just run all trials in submission order\n",
    "        scheduler=tune.schedulers.FIFOScheduler(), \n",
    "    ),\n",
    ")\n",
    "results = tuner.fit()"
   ]
  },
  {
   "cell_type": "markdown",
   "metadata": {},
   "source": [
    "Below is a diagram showing the relationship between the different Ray Tune components we have discussed.\n",
    "\n",
    "<img src=\"https://docs.ray.io/en/latest/_images/tune_flow.png\" width=\"800\" />\n",
    "\n",
    "\n",
    "To learn more about the key tune concepts, you can visit the [Ray Tune documentation here](https://docs.ray.io/en/master/tune/key-concepts.html)."
   ]
  },
  {
   "cell_type": "markdown",
   "metadata": {},
   "source": [
    "Here is the same experiment table annotated \n",
    "\n",
    "<img src=\"https://anyscale-public-materials.s3.us-west-2.amazonaws.com/attentive-ray-101/experiment_table_annotated.png\" width=\"800\" />\n",
    "\n",
    "\n"
   ]
  },
  {
   "cell_type": "markdown",
   "metadata": {},
   "source": [
    "#### Exercise\n",
    "\n",
    "<div class=\"alert alert-block alert-info\">\n",
    "    \n",
    "__Lab activity: Finetune a linear regression model.__\n",
    "    \n",
    "\n",
    "Given the below code to train a linear regression model from scratch: \n",
    "\n",
    "```python\n",
    "def train_linear_model(lr: float, epochs: int) -> None:\n",
    "    x = np.array([0, 1, 2, 3, 4])\n",
    "    y = x * 2\n",
    "    w = 0\n",
    "    for _ in range(epochs):\n",
    "        loss = np.sqrt(np.mean((w * x - y) ** 2))\n",
    "        dl_dw = np.mean(2 * x * (w * x - y)) \n",
    "        w -= lr * dl_dw\n",
    "        print({\"rmse\": loss})\n",
    "\n",
    "# Hint: Step 1 update the function signature\n",
    "\n",
    "# Hint: Step 2 Create the tuner object\n",
    "tuner = tune.Tuner(...)\n",
    "\n",
    "# Hint: Step 3: Run the tuner\n",
    "results = tuner.fit()\n",
    "```\n",
    "\n",
    "Use Ray Tune to tune the hyperparameters `lr` and `epochs`. \n",
    "\n",
    "Perform a search using the optuna.OptunaSearch search algorithm with 5 samples over the following ranges:\n",
    "- `lr`: loguniform(1e-4, 1e-1)\n",
    "- `epochs`: randint(1, 100)\n",
    "\n",
    "</div>\n"
   ]
  },
  {
   "cell_type": "code",
   "execution_count": null,
   "metadata": {},
   "outputs": [],
   "source": [
    "# Write your code here\n"
   ]
  },
  {
   "cell_type": "markdown",
   "metadata": {},
   "source": [
    "<div class=\"alert alert-block alert-info\">\n",
    "<details>\n",
    "<summary>Click here to view the solution</summary>\n",
    "\n",
    "```python\n",
    "def train_linear_model(config) -> None:\n",
    "    epochs = config[\"epochs\"]\n",
    "    lr = config[\"lr\"]\n",
    "    x = np.array([0, 1, 2, 3, 4])\n",
    "    y = x * 2\n",
    "    w = 0\n",
    "    for _ in range(epochs):\n",
    "        loss = np.sqrt(np.mean((w * x - y) ** 2))\n",
    "        dl_dw = np.mean(2 * x * (w * x - y)) \n",
    "        w -= lr * dl_dw\n",
    "        train.report({\"rmse\": loss})\n",
    "\n",
    "tuner = tune.Tuner(\n",
    "    trainable=train_linear_model,  # Training function or class to be tuned\n",
    "    param_space={\n",
    "        \"lr\": tune.loguniform(1e-4, 1e-1),  # Hyperparameter: learning rate\n",
    "        \"epochs\": tune.randint(1, 100),  # Hyperparameter: number of epochs\n",
    "    },\n",
    "    tune_config=tune.TuneConfig(\n",
    "        metric=\"rmse\",  # Metric to optimize (minimize)\n",
    "        mode=\"min\",     # Minimize the metric\n",
    "        num_samples=5,  # Number of samples to try\n",
    "        search_alg=optuna.OptunaSearch(), # Use Optuna for hyperparameter search\n",
    "    ),\n",
    ")\n",
    "\n",
    "results = tuner.fit()\n",
    "```\n",
    "\n",
    "</details>\n",
    "</div>"
   ]
  },
  {
   "cell_type": "markdown",
   "metadata": {},
   "source": [
    "### Hyperparameter tune the PyTorch model using Ray Tune\n",
    "\n",
    "The first step is to move in all the PyTorch code into a function that we can pass to the `trainable` argument of the `tune.run` function."
   ]
  },
  {
   "cell_type": "code",
   "execution_count": 12,
   "metadata": {},
   "outputs": [],
   "source": [
    "def train_pytorch(config): # we change the function so it accepts a config dictionary\n",
    "    criterion = CrossEntropyLoss()\n",
    "\n",
    "    model = resnet18()\n",
    "    model.conv1 = torch.nn.Conv2d(\n",
    "        1, 64, kernel_size=(7, 7), stride=(2, 2), padding=(3, 3), bias=False\n",
    "    )\n",
    "    model.to(\"cuda\")\n",
    "\n",
    "    optimizer = Adam(model.parameters(), lr=config[\"lr\"])\n",
    "    transform = Compose([ToTensor(), Normalize((0.5,), (0.5,))])\n",
    "    train_data = MNIST(root=\"./data\", train=True, download=True, transform=transform)\n",
    "    data_loader = DataLoader(train_data, batch_size=config[\"batch_size\"], shuffle=True, drop_last=True)\n",
    "\n",
    "    for epoch in range(config[\"num_epochs\"]):\n",
    "        for images, labels in data_loader:\n",
    "            images, labels = images.to(\"cuda\"), labels.to(\"cuda\")\n",
    "            outputs = model(images)\n",
    "            loss = criterion(outputs, labels)\n",
    "            optimizer.zero_grad()\n",
    "            loss.backward()\n",
    "            optimizer.step()\n",
    "\n",
    "        # Report the metrics using train.report instead of print\n",
    "        train.report({\"loss\": loss.item()})"
   ]
  },
  {
   "cell_type": "markdown",
   "metadata": {},
   "source": [
    "The second and third steps are the same as before. We define the tuner and run it by calling the fit method."
   ]
  },
  {
   "cell_type": "code",
   "execution_count": null,
   "metadata": {},
   "outputs": [
    {
     "data": {
      "text/html": [
       "<div class=\"tuneStatus\">\n",
       "  <div style=\"display: flex;flex-direction: row\">\n",
       "    <div style=\"display: flex;flex-direction: column;\">\n",
       "      <h3>Tune Status</h3>\n",
       "      <table>\n",
       "<tbody>\n",
       "<tr><td>Current time:</td><td>2025-04-15 18:42:00</td></tr>\n",
       "<tr><td>Running for: </td><td>00:08:27.53        </td></tr>\n",
       "<tr><td>Memory:      </td><td>11.4/31.3 GiB      </td></tr>\n",
       "</tbody>\n",
       "</table>\n",
       "    </div>\n",
       "    <div class=\"vDivider\"></div>\n",
       "    <div class=\"systemInfo\">\n",
       "      <h3>System Info</h3>\n",
       "      Using FIFO scheduling algorithm.<br>Logical resource usage: 0/8 CPUs, 1.0/1 GPUs (0.0/1.0 accelerator_type:G)\n",
       "    </div>\n",
       "    \n",
       "  </div>\n",
       "  <div class=\"hDivider\"></div>\n",
       "  <div class=\"trialStatus\">\n",
       "    <h3>Trial Status</h3>\n",
       "    <table>\n",
       "<thead>\n",
       "<tr><th>Trial name               </th><th>status    </th><th>loc                  </th><th style=\"text-align: right;\">         lr</th><th style=\"text-align: right;\">  iter</th><th style=\"text-align: right;\">  total time (s)</th><th style=\"text-align: right;\">     loss</th></tr>\n",
       "</thead>\n",
       "<tbody>\n",
       "<tr><td>train_pytorch_a9cbd_00001</td><td>RUNNING   </td><td>192.168.99.98:3522744</td><td style=\"text-align: right;\">0.000746025</td><td style=\"text-align: right;\">      </td><td style=\"text-align: right;\">                </td><td style=\"text-align: right;\">         </td></tr>\n",
       "<tr><td>train_pytorch_a9cbd_00000</td><td>TERMINATED</td><td>192.168.99.98:3520674</td><td style=\"text-align: right;\">0.00166924 </td><td style=\"text-align: right;\">     1</td><td style=\"text-align: right;\">         276.994</td><td style=\"text-align: right;\">0.0516077</td></tr>\n",
       "</tbody>\n",
       "</table>\n",
       "  </div>\n",
       "</div>\n",
       "<style>\n",
       ".tuneStatus {\n",
       "  color: var(--jp-ui-font-color1);\n",
       "}\n",
       ".tuneStatus .systemInfo {\n",
       "  display: flex;\n",
       "  flex-direction: column;\n",
       "}\n",
       ".tuneStatus td {\n",
       "  white-space: nowrap;\n",
       "}\n",
       ".tuneStatus .trialStatus {\n",
       "  display: flex;\n",
       "  flex-direction: column;\n",
       "}\n",
       ".tuneStatus h3 {\n",
       "  font-weight: bold;\n",
       "}\n",
       ".tuneStatus .hDivider {\n",
       "  border-bottom-width: var(--jp-border-width);\n",
       "  border-bottom-color: var(--jp-border-color0);\n",
       "  border-bottom-style: solid;\n",
       "}\n",
       ".tuneStatus .vDivider {\n",
       "  border-left-width: var(--jp-border-width);\n",
       "  border-left-color: var(--jp-border-color0);\n",
       "  border-left-style: solid;\n",
       "  margin: 0.5em 1em 0.5em 1em;\n",
       "}\n",
       "</style>\n"
      ],
      "text/plain": [
       "<IPython.core.display.HTML object>"
      ]
     },
     "metadata": {},
     "output_type": "display_data"
    }
   ],
   "source": [
    "tuner = tune.Tuner(\n",
    "    trainable=tune.with_resources(train_pytorch, {\"gpu\": 1}), # we will dedicate 1 GPU to each trial\n",
    "    param_space={\n",
    "        \"num_epochs\": 1,\n",
    "        \"batch_size\": 128,\n",
    "        \"lr\": tune.loguniform(1e-4, 1e-1),\n",
    "    },\n",
    "    tune_config=tune.TuneConfig(\n",
    "        mode=\"min\",\n",
    "        metric=\"loss\",\n",
    "        num_samples=2,\n",
    "        search_alg=tune.search.BasicVariantGenerator(),\n",
    "        scheduler=tune.schedulers.FIFOScheduler(),\n",
    "    ),\n",
    ")\n",
    "\n",
    "results = tuner.fit()"
   ]
  },
  {
   "cell_type": "markdown",
   "metadata": {},
   "source": [
    "Finally, we can get the best result and its configuration:"
   ]
  },
  {
   "cell_type": "code",
   "execution_count": null,
   "metadata": {},
   "outputs": [],
   "source": [
    "best_result = results.get_best_result()\n",
    "best_result.config"
   ]
  },
  {
   "cell_type": "markdown",
   "metadata": {},
   "source": [
    "## 4. Ray Tune in Production\n",
    "\n",
    "Here are some use-cases of using Ray Train in production:\n",
    "1. The Uber internal autotune service uses Ray Tune. See the uber blog post [here](https://www.uber.com/blog/from-predictive-to-generative-ai/).\n",
    "2. How Spotify makes use of Ray Tune for hyperparameter tuning. See the spotify blog post [here](https://engineering.atspotify.com/2023/02/unleashing-ml-innovation-at-spotify-with-ray/)"
   ]
  }
 ],
 "metadata": {
  "kernelspec": {
   "display_name": "Python 3 (ipykernel)",
   "language": "python",
   "name": "python3"
  },
  "language_info": {
   "codemirror_mode": {
    "name": "ipython",
    "version": 3
   },
   "file_extension": ".py",
   "mimetype": "text/x-python",
   "name": "python",
   "nbconvert_exporter": "python",
   "pygments_lexer": "ipython3",
   "version": "3.12.0"
  }
 },
 "nbformat": 4,
 "nbformat_minor": 4
}
